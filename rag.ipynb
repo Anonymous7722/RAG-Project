{
 "cells": [
  {
   "cell_type": "code",
   "execution_count": 1,
   "id": "68d9a105",
   "metadata": {},
   "outputs": [],
   "source": [
    "from dotenv import load_dotenv\n",
    "import os"
   ]
  },
  {
   "cell_type": "code",
   "execution_count": 2,
   "id": "fade05ae",
   "metadata": {},
   "outputs": [],
   "source": [
    "load_dotenv()\n",
    "sec_key=os.getenv('HUGGING_FACE_API')"
   ]
  },
  {
   "cell_type": "code",
   "execution_count": null,
   "id": "735c645a",
   "metadata": {},
   "outputs": [],
   "source": []
  }
 ],
 "metadata": {
  "kernelspec": {
   "display_name": "Python 3",
   "language": "python",
   "name": "python3"
  },
  "language_info": {
   "codemirror_mode": {
    "name": "ipython",
    "version": 3
   },
   "file_extension": ".py",
   "mimetype": "text/x-python",
   "name": "python",
   "nbconvert_exporter": "python",
   "pygments_lexer": "ipython3",
   "version": "3.11.9"
  }
 },
 "nbformat": 4,
 "nbformat_minor": 5
}
