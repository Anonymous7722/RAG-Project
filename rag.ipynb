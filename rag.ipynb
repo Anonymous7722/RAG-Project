{
 "cells": [
  {
   "cell_type": "code",
   "execution_count": 76,
   "id": "68d9a105",
   "metadata": {},
   "outputs": [],
   "source": [
    "from dotenv import load_dotenv\n",
    "import os\n",
    "from langchain_google_genai import ChatGoogleGenerativeAI\n",
    "from langchain_core.prompts import PromptTemplate\n",
    "from langchain_core.output_parsers import StrOutputParser"
   ]
  },
  {
   "cell_type": "markdown",
   "id": "440a2e4d",
   "metadata": {},
   "source": [
    "# LOAD GOOGLE API"
   ]
  },
  {
   "cell_type": "code",
   "execution_count": 77,
   "id": "fade05ae",
   "metadata": {},
   "outputs": [],
   "source": [
    "load_dotenv()\n",
    "GOOGLE_API_KEY=os.getenv('GOOGLE_API_KEY')"
   ]
  },
  {
   "cell_type": "markdown",
   "id": "ee09b9b8",
   "metadata": {},
   "source": [
    "# GEMINI LLM MODEL"
   ]
  },
  {
   "cell_type": "code",
   "execution_count": 78,
   "id": "5a84a52a",
   "metadata": {},
   "outputs": [],
   "source": [
    "llm = ChatGoogleGenerativeAI(model=\"gemini-2.0-flash\")"
   ]
  },
  {
   "cell_type": "markdown",
   "id": "1abff5d4",
   "metadata": {},
   "source": [
    "# PROMT"
   ]
  },
  {
   "cell_type": "code",
   "execution_count": null,
   "id": "b7573d36",
   "metadata": {},
   "outputs": [],
   "source": [
    "movie_title_promt = PromptTemplate.from_template(\"Suggest me only one title of a movie to watch in language {language} and of genre {genre}\")"
   ]
  },
  {
   "cell_type": "code",
   "execution_count": 91,
   "id": "7489c329",
   "metadata": {},
   "outputs": [],
   "source": [
    "movie_summary_promt = PromptTemplate.from_template('Give me 2-3 line summary of the movie {movie_name}')"
   ]
  },
  {
   "cell_type": "code",
   "execution_count": null,
   "id": "6e75e9d4",
   "metadata": {},
   "outputs": [],
   "source": [
    "promt = movie_title_promt.invoke({\n",
    "    \"language\": \"Hindi\",\n",
    "    \"genre\": \"Comedy\"\n",
    "})"
   ]
  },
  {
   "cell_type": "code",
   "execution_count": 81,
   "id": "83f5918b",
   "metadata": {},
   "outputs": [
    {
     "name": "stdout",
     "output_type": "stream",
     "text": [
      "**Hera Pheri**\n"
     ]
    }
   ],
   "source": [
    "result = llm.invoke(promt)\n",
    "print(result.content)"
   ]
  },
  {
   "cell_type": "code",
   "execution_count": null,
   "id": "f58a0e9a",
   "metadata": {},
   "outputs": [],
   "source": [
    "movie_chain = movie_title_promt | llm | StrOutputParser()"
   ]
  },
  {
   "cell_type": "code",
   "execution_count": 90,
   "id": "b0c55891",
   "metadata": {},
   "outputs": [
    {
     "data": {
      "text/plain": [
       "'भूत पुलिस (Bhoot Police)'"
      ]
     },
     "execution_count": 90,
     "metadata": {},
     "output_type": "execute_result"
    }
   ],
   "source": [
    "movie_chain.invoke({'language':'Hindi','genre':'Horror'})"
   ]
  },
  {
   "cell_type": "code",
   "execution_count": null,
   "id": "e54c77b4",
   "metadata": {},
   "outputs": [],
   "source": []
  }
 ],
 "metadata": {
  "kernelspec": {
   "display_name": "Python 3",
   "language": "python",
   "name": "python3"
  },
  "language_info": {
   "codemirror_mode": {
    "name": "ipython",
    "version": 3
   },
   "file_extension": ".py",
   "mimetype": "text/x-python",
   "name": "python",
   "nbconvert_exporter": "python",
   "pygments_lexer": "ipython3",
   "version": "3.11.9"
  }
 },
 "nbformat": 4,
 "nbformat_minor": 5
}
