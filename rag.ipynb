{
 "cells": [
  {
   "cell_type": "code",
   "execution_count": 76,
   "id": "68d9a105",
   "metadata": {},
   "outputs": [],
   "source": [
    "from dotenv import load_dotenv\n",
    "import os\n",
    "from langchain_google_genai import ChatGoogleGenerativeAI\n",
    "from langchain_core.prompts import PromptTemplate\n",
    "from langchain_core.output_parsers import StrOutputParser"
   ]
  },
  {
   "cell_type": "markdown",
   "id": "440a2e4d",
   "metadata": {},
   "source": [
    "# LOAD GOOGLE API"
   ]
  },
  {
   "cell_type": "code",
   "execution_count": 77,
   "id": "fade05ae",
   "metadata": {},
   "outputs": [],
   "source": [
    "load_dotenv()\n",
    "GOOGLE_API_KEY=os.getenv('GOOGLE_API_KEY')"
   ]
  },
  {
   "cell_type": "markdown",
   "id": "ee09b9b8",
   "metadata": {},
   "source": [
    "# GEMINI LLM MODEL"
   ]
  },
  {
   "cell_type": "code",
   "execution_count": 78,
   "id": "5a84a52a",
   "metadata": {},
   "outputs": [],
   "source": [
    "llm = ChatGoogleGenerativeAI(model=\"gemini-2.0-flash\")"
   ]
  },
  {
   "cell_type": "markdown",
   "id": "1abff5d4",
   "metadata": {},
   "source": [
    "# PROMT"
   ]
  },
  {
   "cell_type": "code",
   "execution_count": 93,
   "id": "b7573d36",
   "metadata": {},
   "outputs": [],
   "source": [
    "movie_title_promt = PromptTemplate.from_template(\"Suggest me only one title of a movie to watch in language {language} and of genre {genre}\")"
   ]
  },
  {
   "cell_type": "code",
   "execution_count": 94,
   "id": "7489c329",
   "metadata": {},
   "outputs": [],
   "source": [
    "movie_summary_promt = PromptTemplate.from_template('Give me 2-3 line summary of the movie {movie_name}')"
   ]
  },
  {
   "cell_type": "code",
   "execution_count": 95,
   "id": "6e75e9d4",
   "metadata": {},
   "outputs": [],
   "source": [
    "promt = movie_title_promt.invoke({\n",
    "    \"language\": \"Hindi\",\n",
    "    \"genre\": \"Comedy\"\n",
    "})"
   ]
  },
  {
   "cell_type": "code",
   "execution_count": 96,
   "id": "83f5918b",
   "metadata": {},
   "outputs": [
    {
     "name": "stdout",
     "output_type": "stream",
     "text": [
      "**Hera Pheri**\n"
     ]
    }
   ],
   "source": [
    "result = llm.invoke(promt)\n",
    "print(result.content)"
   ]
  },
  {
   "cell_type": "markdown",
   "id": "51056900",
   "metadata": {},
   "source": [
    "# Langchain Chains"
   ]
  },
  {
   "cell_type": "code",
   "execution_count": 97,
   "id": "f58a0e9a",
   "metadata": {},
   "outputs": [],
   "source": [
    "# movie_chain = movie_title_promt | llm | StrOutputParser()"
   ]
  },
  {
   "cell_type": "code",
   "execution_count": null,
   "id": "de478ca1",
   "metadata": {},
   "outputs": [],
   "source": [
    "# movie_chain = {'movie_name': movie_title_promt} | movie_summary_promt | llm | StrOutputParser()"
   ]
  },
  {
   "cell_type": "code",
   "execution_count": 102,
   "id": "42412bb3",
   "metadata": {},
   "outputs": [],
   "source": [
    "movie_chain =  movie_title_promt | llm | {'movie_name': StrOutputParser()} | movie_summary_promt | llm | StrOutputParser()"
   ]
  },
  {
   "cell_type": "code",
   "execution_count": 106,
   "id": "b0c55891",
   "metadata": {},
   "outputs": [
    {
     "data": {
      "text/plain": [
       "'\"Raat Akeli Hai\" is a Hindi crime thriller about a troubled police inspector, Jatil Yadav, investigating the murder of a powerful politician on his wedding night. As he delves deeper into the case, he uncovers dark secrets and a web of deceit involving the victim\\'s family and associates. The film explores themes of caste, power, and societal hypocrisy.'"
      ]
     },
     "execution_count": 106,
     "metadata": {},
     "output_type": "execute_result"
    }
   ],
   "source": [
    "movie_chain.invoke({'language':'Hindi','genre':'Horror'})"
   ]
  },
  {
   "cell_type": "code",
   "execution_count": 111,
   "id": "e54c77b4",
   "metadata": {},
   "outputs": [
    {
     "name": "stdout",
     "output_type": "stream",
     "text": [
      "भूतनाथ (Bhootnath)\n",
      "\"Bhootnath\" is a heartwarming story about a friendly ghost who befriends a young boy named Banku. Together, they try to help Bhootnath find peace and move on from his past, while teaching valuable lessons about friendship, family, and overcoming fear.\n"
     ]
    }
   ],
   "source": [
    "movie_chain2 = movie_title_promt | llm | StrOutputParser()\n",
    "movie_title = movie_chain2.invoke({'language':'Hindi','genre':'Horror'})\n",
    "print(movie_title)\n",
    "\n",
    "movie_chain3 = movie_summary_promt | llm | StrOutputParser()\n",
    "movie_summary = movie_chain3.invoke({'movie_name': movie_title})\n",
    "print(movie_summary)"
   ]
  },
  {
   "cell_type": "code",
   "execution_count": null,
   "id": "bfe18535",
   "metadata": {},
   "outputs": [],
   "source": []
  }
 ],
 "metadata": {
  "kernelspec": {
   "display_name": "Python 3",
   "language": "python",
   "name": "python3"
  },
  "language_info": {
   "codemirror_mode": {
    "name": "ipython",
    "version": 3
   },
   "file_extension": ".py",
   "mimetype": "text/x-python",
   "name": "python",
   "nbconvert_exporter": "python",
   "pygments_lexer": "ipython3",
   "version": "3.11.9"
  }
 },
 "nbformat": 4,
 "nbformat_minor": 5
}
